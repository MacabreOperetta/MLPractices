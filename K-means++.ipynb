{
 "cells": [
  {
   "cell_type": "markdown",
   "metadata": {},
   "source": [
    "# K-Means++\n",
    "### Import packages"
   ]
  },
  {
   "cell_type": "code",
   "execution_count": 1,
   "metadata": {},
   "outputs": [],
   "source": [
    "import numpy as np\n",
    "import pandas as pd\n",
    "import matplotlib.pyplot as plt\n",
    "%matplotlib inline "
   ]
  },
  {
   "cell_type": "markdown",
   "metadata": {},
   "source": [
    "### Read the dataset"
   ]
  },
  {
   "cell_type": "code",
   "execution_count": 2,
   "metadata": {},
   "outputs": [
    {
     "data": {
      "text/plain": [
       "array([[  2.072345,  -3.241693],\n",
       "       [ 17.93671 ,  15.78481 ],\n",
       "       [  1.083576,   7.319176],\n",
       "       ...,\n",
       "       [ 64.46532 , -10.50136 ],\n",
       "       [ 90.72282 , -12.25584 ],\n",
       "       [ 64.87976 , -24.87731 ]])"
      ]
     },
     "execution_count": 2,
     "metadata": {},
     "output_type": "execute_result"
    }
   ],
   "source": [
    "coordinates = pd.read_csv(\"https://raw.githubusercontent.com/jupyter/docker-demo-images/master/datasets/cluster/xclara.csv\", index_col=0)\n",
    "coordinates = coordinates.as_matrix()\n",
    "coordinates"
   ]
  },
  {
   "cell_type": "code",
   "execution_count": 3,
   "metadata": {},
   "outputs": [
    {
     "name": "stdout",
     "output_type": "stream",
     "text": [
      "Dataset size:  3000\n",
      "Feature size:  2\n"
     ]
    }
   ],
   "source": [
    "n, feature_size = coordinates.shape\n",
    "print(\"Dataset size: \", n)\n",
    "print(\"Feature size: \", feature_size)"
   ]
  },
  {
   "cell_type": "markdown",
   "metadata": {},
   "source": [
    "### Visualize the dataset"
   ]
  },
  {
   "cell_type": "code",
   "execution_count": 4,
   "metadata": {
    "scrolled": true
   },
   "outputs": [
    {
     "data": {
      "text/plain": [
       "<matplotlib.collections.PathCollection at 0x1fbf653d7f0>"
      ]
     },
     "execution_count": 4,
     "metadata": {},
     "output_type": "execute_result"
    },
    {
     "data": {
      "image/png": "[encoded data removed]",
      "text/plain": [
       "<matplotlib.figure.Figure at 0x1fbf623e240>"
      ]
     },
     "metadata": {},
     "output_type": "display_data"
    }
   ],
   "source": [
    "plt.scatter(coordinates[:,0], coordinates[:,1], edgecolors='face')"
   ]
  },
  {
   "cell_type": "markdown",
   "metadata": {},
   "source": [
    "### Helper functions"
   ]
  },
  {
   "cell_type": "code",
   "execution_count": null,
   "metadata": {
    "collapsed": true
   },
   "outputs": [],
   "source": [
    "def generate_centroids(K):\n",
    "    centroids = []\n",
    "    first_center_index = np.random.randint(0,len(coordinates))\n",
    "    centroids.append(coordinates[first_center_index])\n",
    "       \n",
    "    for i in range(1,K):\n",
    "        squared_distances = np.zeros(len(coordinates))\n",
    "        for i in range(len(coordinates)):\n",
    "            _, dx = nearest_centroid(coordinates[i], centroids)\n",
    "            squared_distances[i] = dx**2\n",
    "        weights = squared_distances / np.sum(squared_distances)\n",
    "        index = np.random.choice(len(coordinates), p=weights)\n",
    "        centroids.append(coordinates[index])\n",
    "        \n",
    "    return centroids"
   ]
  },
  {
   "cell_type": "code",
   "execution_count": null,
   "metadata": {
    "collapsed": true
   },
   "outputs": [],
   "source": [
    "def centroid_changed(previous, current):\n",
    "    return not np.array_equal(previous, current)"
   ]
  },
  {
   "cell_type": "code",
   "execution_count": null,
   "metadata": {
    "collapsed": true
   },
   "outputs": [],
   "source": [
    "def distance(a,b): # euclidean distance\n",
    "    return np.sqrt(np.sum((a-b)**2))"
   ]
  },
  {
   "cell_type": "code",
   "execution_count": null,
   "metadata": {
    "collapsed": true
   },
   "outputs": [],
   "source": [
    "def nearest_centroid(data_point, current_centroids):  \n",
    "    distances = []\n",
    "    for centroid in current_centroids:\n",
    "        distances.append(distance(data_point, centroid))\n",
    "    return np.argmin(distances), np.min(distances)"
   ]
  },
  {
   "cell_type": "markdown",
   "metadata": {},
   "source": [
    "### K-means algorithm"
   ]
  },
  {
   "cell_type": "code",
   "execution_count": null,
   "metadata": {
    "collapsed": true,
    "scrolled": false
   },
   "outputs": [],
   "source": [
    "def kmeans(coordinates, K, max_iteration):\n",
    "    current_centroids = generate_centroids(K)\n",
    "    previous_centroids = None\n",
    "    cluster = np.zeros(len(coordinates))\n",
    "    iteration = 1\n",
    "\n",
    "    fig = plt.figure(figsize=(5,100))\n",
    "\n",
    "    while centroid_changed(previous_centroids, current_centroids) and iteration <= max_iteration:  \n",
    "        for i in range(len(coordinates)):\n",
    "            cluster[i],_ = nearest_centroid(coordinates[i], current_centroids)\n",
    "\n",
    "        ax = fig.add_subplot(max_iteration,1,iteration)\n",
    "        ax.set_title(str(iteration) + \". iteration\")\n",
    "        ax.scatter(coordinates[:,0], coordinates[:,1], c=np.copy(cluster), cmap='rainbow', edgecolors='face')\n",
    "        ax.scatter(np.array(current_centroids)[:,0],np.array(current_centroids)[:,1], s=100, c='k', marker='*', edgecolors='face')\n",
    "\n",
    "        previous_centroids = np.copy(current_centroids)\n",
    "\n",
    "        for k in range(K):\n",
    "            indices = np.where(cluster == k)\n",
    "            if len(indices[0]) > 0:\n",
    "                current_centroids[k] = np.mean(coordinates[indices], axis=0)\n",
    "\n",
    "        iteration += 1"
   ]
  },
  {
   "cell_type": "markdown",
   "metadata": {},
   "source": [
    "### Run"
   ]
  },
  {
   "cell_type": "code",
   "execution_count": null,
   "metadata": {
    "scrolled": false
   },
   "outputs": [],
   "source": [
    "kmeans(coordinates, 3, 20)"
   ]
  }
 ],
 "metadata": {
  "kernelspec": {
   "display_name": "Python 3",
   "language": "python",
   "name": "python3"
  },
  "language_info": {
   "codemirror_mode": {
    "name": "ipython",
    "version": 3
   },
   "file_extension": ".py",
   "mimetype": "text/x-python",
   "name": "python",
   "nbconvert_exporter": "python",
   "pygments_lexer": "ipython3",
   "version": "3.6.4"
  }
 },
 "nbformat": 4,
 "nbformat_minor": 2
}
